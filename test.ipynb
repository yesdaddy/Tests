{
 "cells": [
  {
   "cell_type": "code",
   "execution_count": 3,
   "metadata": {},
   "outputs": [
    {
     "name": "stdout",
     "output_type": "stream",
     "text": [
      "hello world , ㅗ모몸 , 민얒ㄴ , sdf232ls , 230923\n"
     ]
    }
   ],
   "source": [
    "print(\"hello world\", \"ㅗ모몸\", \"민얒ㄴ\", \"sdf232ls\", \"230923\", sep=\" , \")"
   ]
  },
  {
   "cell_type": "code",
   "execution_count": 1,
   "metadata": {},
   "outputs": [],
   "source": [
    "from selenium import webdriver\n",
    "browser = webdriver.Chrome('C:/Users/kiban.han/pyspace/chromedriver.exe')\n",
    "url = 'https://kibani.blog.me'\n",
    "browser.get(url)"
   ]
  },
  {
   "cell_type": "code",
   "execution_count": 7,
   "metadata": {},
   "outputs": [
    {
     "name": "stdout",
     "output_type": "stream",
     "text": [
      "['c', 'd', 'e']\n",
      "efghijk   \n",
      "abcde\n",
      "abcdefghijk\n"
     ]
    }
   ],
   "source": [
    "listk = ['a','b','c','d','e','f']\n",
    "print(listk[2:5])\n",
    "s=\"abcdefghijk   \"\n",
    "print(s[4:])\n",
    "print(s[:5])\n",
    "print(s.strip())"
   ]
  }
 ],
 "metadata": {
  "kernelspec": {
   "display_name": "Python 3",
   "language": "python",
   "name": "python3"
  },
  "language_info": {
   "codemirror_mode": {
    "name": "ipython",
    "version": 3
   },
   "file_extension": ".py",
   "mimetype": "text/x-python",
   "name": "python",
   "nbconvert_exporter": "python",
   "pygments_lexer": "ipython3",
   "version": "3.7.4"
  }
 },
 "nbformat": 4,
 "nbformat_minor": 2
}
